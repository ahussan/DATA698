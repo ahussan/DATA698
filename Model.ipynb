{
 "cells": [
  {
   "cell_type": "code",
   "execution_count": 1,
   "id": "e27e7904-c078-4696-8303-bb2f5b73e2c4",
   "metadata": {},
   "outputs": [
    {
     "data": {
      "text/html": [
       "        <script type=\"text/javascript\">\n",
       "        window.PlotlyConfig = {MathJaxConfig: 'local'};\n",
       "        if (window.MathJax && window.MathJax.Hub && window.MathJax.Hub.Config) {window.MathJax.Hub.Config({SVG: {font: \"STIX-Web\"}});}\n",
       "        if (typeof require !== 'undefined') {\n",
       "        require.undef(\"plotly\");\n",
       "        requirejs.config({\n",
       "            paths: {\n",
       "                'plotly': ['https://cdn.plot.ly/plotly-2.16.1.min']\n",
       "            }\n",
       "        });\n",
       "        require(['plotly'], function(Plotly) {\n",
       "            window._Plotly = Plotly;\n",
       "        });\n",
       "        }\n",
       "        </script>\n",
       "        "
      ]
     },
     "metadata": {},
     "output_type": "display_data"
    },
    {
     "name": "stderr",
     "output_type": "stream",
     "text": [
      "2022-11-29 15:17:26.323573: I tensorflow/core/platform/cpu_feature_guard.cc:193] This TensorFlow binary is optimized with oneAPI Deep Neural Network Library (oneDNN) to use the following CPU instructions in performance-critical operations:  AVX2 FMA\n",
      "To enable them in other operations, rebuild TensorFlow with the appropriate compiler flags.\n"
     ]
    }
   ],
   "source": [
    "import pandas as pd       \n",
    "import numpy as np\n",
    "\n",
    "import matplotlib.pyplot as plt\n",
    "import seaborn as sns\n",
    "import plotly.offline as py\n",
    "py.init_notebook_mode(connected=True)\n",
    "import plotly.graph_objs as go\n",
    "import plotly.tools as tls\n",
    "import plotly.figure_factory as ff\n",
    "\n",
    "import keras\n",
    "from keras.models import Sequential\n",
    "from keras.layers import Dense, Conv2D , MaxPool2D , Flatten , Dropout , BatchNormalization\n",
    "from keras.callbacks import ReduceLROnPlateau\n",
    "from keras.preprocessing.image import ImageDataGenerator\n",
    "\n",
    "from sklearn.model_selection import train_test_split\n",
    "from sklearn.metrics import classification_report,confusion_matrix\n",
    "from sklearn.model_selection import train_test_split\n",
    "from sklearn import metrics\n",
    "from sklearn.metrics import accuracy_score\n",
    "\n",
    "\n",
    "import tensorflow as tf\n",
    "from tensorflow import keras\n",
    "from tensorflow.keras import layers\n",
    "from tensorflow.keras import callbacks\n",
    "from tensorflow.keras.models import Model\n",
    "from tensorflow.keras.preprocessing.image import ImageDataGenerator\n",
    "from keras.layers import MaxPooling2D\n",
    "\n",
    "\n",
    "import cv2\n",
    "import warnings\n",
    "warnings.filterwarnings('ignore')\n",
    "\n",
    "import random\n",
    "import os\n",
    "import glob\n",
    "from numpy.random import seed\n",
    "\n",
    "\n",
    "\n",
    "seed(42)\n",
    "\n",
    "random.seed(42)\n",
    "os.environ['PYTHONHASHSEED'] = str(42)\n",
    "os.environ['TF_DETERMINISTIC_OPS'] = '1'\n",
    "\n",
    "from tensorflow.random import set_seed\n",
    "set_seed(42)\n"
   ]
  },
  {
   "cell_type": "code",
   "execution_count": 2,
   "id": "fb5bb55e-4753-4ced-87d6-f557d4c5b3e8",
   "metadata": {},
   "outputs": [],
   "source": [
    "main_path = \"chest_xray_images/chest_xray/\"\n",
    "\n",
    "\n",
    "train_path = os.path.join(main_path,\"train\")\n",
    "test_path=os.path.join(main_path,\"test\")\n",
    "val_path=os.path.join(main_path,\"val\")\n",
    "\n",
    "train_normal = glob.glob(train_path+\"/NORMAL/*.jpeg\")\n",
    "train_pneumonia = glob.glob(train_path+\"/PNEUMONIA/*.jpeg\")\n",
    "\n",
    "test_normal = glob.glob(test_path+\"/NORMAL/*.jpeg\")\n",
    "test_pneumonia = glob.glob(test_path+\"/PNEUMONIA/*.jpeg\")\n",
    "\n",
    "val_normal = glob.glob(val_path+\"/NORMAL/*.jpeg\")\n",
    "val_pneumonia = glob.glob(val_path+\"/PNEUMONIA/*.jpeg\")"
   ]
  },
  {
   "cell_type": "code",
   "execution_count": 3,
   "id": "595de474-c1a1-4f5d-b7f8-ac3401a0a0c3",
   "metadata": {},
   "outputs": [],
   "source": [
    "train_list = [x for x in train_normal]\n",
    "train_list.extend([x for x in train_pneumonia])\n",
    "\n",
    "df_train = pd.DataFrame(np.concatenate([['Normal']*len(train_normal) , ['Pneumonia']*len(train_pneumonia)]), columns = ['class'])\n",
    "df_train['image'] = [x for x in train_list]\n",
    "\n",
    "\n",
    "\n",
    "test_list = [x for x in test_normal]\n",
    "test_list.extend([x for x in test_pneumonia])\n",
    "\n",
    "df_test = pd.DataFrame(np.concatenate([['Normal']*len(test_normal) , ['Pneumonia']*len(test_pneumonia)]), columns = ['class'])\n",
    "df_test['image'] = [x for x in test_list]\n",
    "\n",
    "\n",
    "val_list = [x for x in val_normal]\n",
    "val_list.extend([x for x in val_pneumonia])\n",
    "\n",
    "df_val = pd.DataFrame(np.concatenate([['Normal']*len(val_normal) , ['Pneumonia']*len(val_pneumonia)]), columns = ['class'])\n",
    "df_val['image'] = [x for x in val_list]"
   ]
  },
  {
   "cell_type": "code",
   "execution_count": 4,
   "id": "fc199d35-ffba-4632-b996-15f306fc3420",
   "metadata": {},
   "outputs": [
    {
     "data": {
      "text/html": [
       "<div>\n",
       "<style scoped>\n",
       "    .dataframe tbody tr th:only-of-type {\n",
       "        vertical-align: middle;\n",
       "    }\n",
       "\n",
       "    .dataframe tbody tr th {\n",
       "        vertical-align: top;\n",
       "    }\n",
       "\n",
       "    .dataframe thead th {\n",
       "        text-align: right;\n",
       "    }\n",
       "</style>\n",
       "<table border=\"1\" class=\"dataframe\">\n",
       "  <thead>\n",
       "    <tr style=\"text-align: right;\">\n",
       "      <th></th>\n",
       "      <th>class</th>\n",
       "      <th>image</th>\n",
       "    </tr>\n",
       "  </thead>\n",
       "  <tbody>\n",
       "    <tr>\n",
       "      <th>0</th>\n",
       "      <td>Normal</td>\n",
       "      <td>chest_xray_images/chest_xray/train/NORMAL/NORM...</td>\n",
       "    </tr>\n",
       "    <tr>\n",
       "      <th>1</th>\n",
       "      <td>Normal</td>\n",
       "      <td>chest_xray_images/chest_xray/train/NORMAL/NORM...</td>\n",
       "    </tr>\n",
       "    <tr>\n",
       "      <th>2</th>\n",
       "      <td>Normal</td>\n",
       "      <td>chest_xray_images/chest_xray/train/NORMAL/IM-0...</td>\n",
       "    </tr>\n",
       "    <tr>\n",
       "      <th>3</th>\n",
       "      <td>Normal</td>\n",
       "      <td>chest_xray_images/chest_xray/train/NORMAL/NORM...</td>\n",
       "    </tr>\n",
       "    <tr>\n",
       "      <th>4</th>\n",
       "      <td>Normal</td>\n",
       "      <td>chest_xray_images/chest_xray/train/NORMAL/IM-0...</td>\n",
       "    </tr>\n",
       "    <tr>\n",
       "      <th>...</th>\n",
       "      <td>...</td>\n",
       "      <td>...</td>\n",
       "    </tr>\n",
       "    <tr>\n",
       "      <th>5211</th>\n",
       "      <td>Pneumonia</td>\n",
       "      <td>chest_xray_images/chest_xray/train/PNEUMONIA/p...</td>\n",
       "    </tr>\n",
       "    <tr>\n",
       "      <th>5212</th>\n",
       "      <td>Pneumonia</td>\n",
       "      <td>chest_xray_images/chest_xray/train/PNEUMONIA/p...</td>\n",
       "    </tr>\n",
       "    <tr>\n",
       "      <th>5213</th>\n",
       "      <td>Pneumonia</td>\n",
       "      <td>chest_xray_images/chest_xray/train/PNEUMONIA/p...</td>\n",
       "    </tr>\n",
       "    <tr>\n",
       "      <th>5214</th>\n",
       "      <td>Pneumonia</td>\n",
       "      <td>chest_xray_images/chest_xray/train/PNEUMONIA/p...</td>\n",
       "    </tr>\n",
       "    <tr>\n",
       "      <th>5215</th>\n",
       "      <td>Pneumonia</td>\n",
       "      <td>chest_xray_images/chest_xray/train/PNEUMONIA/p...</td>\n",
       "    </tr>\n",
       "  </tbody>\n",
       "</table>\n",
       "<p>5216 rows × 2 columns</p>\n",
       "</div>"
      ],
      "text/plain": [
       "          class                                              image\n",
       "0        Normal  chest_xray_images/chest_xray/train/NORMAL/NORM...\n",
       "1        Normal  chest_xray_images/chest_xray/train/NORMAL/NORM...\n",
       "2        Normal  chest_xray_images/chest_xray/train/NORMAL/IM-0...\n",
       "3        Normal  chest_xray_images/chest_xray/train/NORMAL/NORM...\n",
       "4        Normal  chest_xray_images/chest_xray/train/NORMAL/IM-0...\n",
       "...         ...                                                ...\n",
       "5211  Pneumonia  chest_xray_images/chest_xray/train/PNEUMONIA/p...\n",
       "5212  Pneumonia  chest_xray_images/chest_xray/train/PNEUMONIA/p...\n",
       "5213  Pneumonia  chest_xray_images/chest_xray/train/PNEUMONIA/p...\n",
       "5214  Pneumonia  chest_xray_images/chest_xray/train/PNEUMONIA/p...\n",
       "5215  Pneumonia  chest_xray_images/chest_xray/train/PNEUMONIA/p...\n",
       "\n",
       "[5216 rows x 2 columns]"
      ]
     },
     "execution_count": 4,
     "metadata": {},
     "output_type": "execute_result"
    }
   ],
   "source": [
    "df_train"
   ]
  },
  {
   "cell_type": "code",
   "execution_count": 5,
   "id": "de2cff72-d7b5-43c9-bba5-6d055d33eef0",
   "metadata": {},
   "outputs": [
    {
     "data": {
      "text/html": [
       "<div>\n",
       "<style scoped>\n",
       "    .dataframe tbody tr th:only-of-type {\n",
       "        vertical-align: middle;\n",
       "    }\n",
       "\n",
       "    .dataframe tbody tr th {\n",
       "        vertical-align: top;\n",
       "    }\n",
       "\n",
       "    .dataframe thead th {\n",
       "        text-align: right;\n",
       "    }\n",
       "</style>\n",
       "<table border=\"1\" class=\"dataframe\">\n",
       "  <thead>\n",
       "    <tr style=\"text-align: right;\">\n",
       "      <th></th>\n",
       "      <th>class</th>\n",
       "      <th>image</th>\n",
       "    </tr>\n",
       "  </thead>\n",
       "  <tbody>\n",
       "    <tr>\n",
       "      <th>0</th>\n",
       "      <td>Normal</td>\n",
       "      <td>chest_xray_images/chest_xray/test/NORMAL/IM-00...</td>\n",
       "    </tr>\n",
       "    <tr>\n",
       "      <th>1</th>\n",
       "      <td>Normal</td>\n",
       "      <td>chest_xray_images/chest_xray/test/NORMAL/IM-00...</td>\n",
       "    </tr>\n",
       "    <tr>\n",
       "      <th>2</th>\n",
       "      <td>Normal</td>\n",
       "      <td>chest_xray_images/chest_xray/test/NORMAL/NORMA...</td>\n",
       "    </tr>\n",
       "    <tr>\n",
       "      <th>3</th>\n",
       "      <td>Normal</td>\n",
       "      <td>chest_xray_images/chest_xray/test/NORMAL/NORMA...</td>\n",
       "    </tr>\n",
       "    <tr>\n",
       "      <th>4</th>\n",
       "      <td>Normal</td>\n",
       "      <td>chest_xray_images/chest_xray/test/NORMAL/NORMA...</td>\n",
       "    </tr>\n",
       "    <tr>\n",
       "      <th>...</th>\n",
       "      <td>...</td>\n",
       "      <td>...</td>\n",
       "    </tr>\n",
       "    <tr>\n",
       "      <th>619</th>\n",
       "      <td>Pneumonia</td>\n",
       "      <td>chest_xray_images/chest_xray/test/PNEUMONIA/pe...</td>\n",
       "    </tr>\n",
       "    <tr>\n",
       "      <th>620</th>\n",
       "      <td>Pneumonia</td>\n",
       "      <td>chest_xray_images/chest_xray/test/PNEUMONIA/pe...</td>\n",
       "    </tr>\n",
       "    <tr>\n",
       "      <th>621</th>\n",
       "      <td>Pneumonia</td>\n",
       "      <td>chest_xray_images/chest_xray/test/PNEUMONIA/pe...</td>\n",
       "    </tr>\n",
       "    <tr>\n",
       "      <th>622</th>\n",
       "      <td>Pneumonia</td>\n",
       "      <td>chest_xray_images/chest_xray/test/PNEUMONIA/pe...</td>\n",
       "    </tr>\n",
       "    <tr>\n",
       "      <th>623</th>\n",
       "      <td>Pneumonia</td>\n",
       "      <td>chest_xray_images/chest_xray/test/PNEUMONIA/pe...</td>\n",
       "    </tr>\n",
       "  </tbody>\n",
       "</table>\n",
       "<p>624 rows × 2 columns</p>\n",
       "</div>"
      ],
      "text/plain": [
       "         class                                              image\n",
       "0       Normal  chest_xray_images/chest_xray/test/NORMAL/IM-00...\n",
       "1       Normal  chest_xray_images/chest_xray/test/NORMAL/IM-00...\n",
       "2       Normal  chest_xray_images/chest_xray/test/NORMAL/NORMA...\n",
       "3       Normal  chest_xray_images/chest_xray/test/NORMAL/NORMA...\n",
       "4       Normal  chest_xray_images/chest_xray/test/NORMAL/NORMA...\n",
       "..         ...                                                ...\n",
       "619  Pneumonia  chest_xray_images/chest_xray/test/PNEUMONIA/pe...\n",
       "620  Pneumonia  chest_xray_images/chest_xray/test/PNEUMONIA/pe...\n",
       "621  Pneumonia  chest_xray_images/chest_xray/test/PNEUMONIA/pe...\n",
       "622  Pneumonia  chest_xray_images/chest_xray/test/PNEUMONIA/pe...\n",
       "623  Pneumonia  chest_xray_images/chest_xray/test/PNEUMONIA/pe...\n",
       "\n",
       "[624 rows x 2 columns]"
      ]
     },
     "execution_count": 5,
     "metadata": {},
     "output_type": "execute_result"
    }
   ],
   "source": [
    "df_test"
   ]
  },
  {
   "cell_type": "code",
   "execution_count": 6,
   "id": "be0533d1-8d38-46e2-a01a-623f7f8b6344",
   "metadata": {},
   "outputs": [
    {
     "data": {
      "text/html": [
       "<div>\n",
       "<style scoped>\n",
       "    .dataframe tbody tr th:only-of-type {\n",
       "        vertical-align: middle;\n",
       "    }\n",
       "\n",
       "    .dataframe tbody tr th {\n",
       "        vertical-align: top;\n",
       "    }\n",
       "\n",
       "    .dataframe thead th {\n",
       "        text-align: right;\n",
       "    }\n",
       "</style>\n",
       "<table border=\"1\" class=\"dataframe\">\n",
       "  <thead>\n",
       "    <tr style=\"text-align: right;\">\n",
       "      <th></th>\n",
       "      <th>class</th>\n",
       "      <th>image</th>\n",
       "    </tr>\n",
       "  </thead>\n",
       "  <tbody>\n",
       "    <tr>\n",
       "      <th>0</th>\n",
       "      <td>Normal</td>\n",
       "      <td>chest_xray_images/chest_xray/val/NORMAL/NORMAL...</td>\n",
       "    </tr>\n",
       "    <tr>\n",
       "      <th>1</th>\n",
       "      <td>Normal</td>\n",
       "      <td>chest_xray_images/chest_xray/val/NORMAL/NORMAL...</td>\n",
       "    </tr>\n",
       "    <tr>\n",
       "      <th>2</th>\n",
       "      <td>Normal</td>\n",
       "      <td>chest_xray_images/chest_xray/val/NORMAL/NORMAL...</td>\n",
       "    </tr>\n",
       "    <tr>\n",
       "      <th>3</th>\n",
       "      <td>Normal</td>\n",
       "      <td>chest_xray_images/chest_xray/val/NORMAL/NORMAL...</td>\n",
       "    </tr>\n",
       "    <tr>\n",
       "      <th>4</th>\n",
       "      <td>Normal</td>\n",
       "      <td>chest_xray_images/chest_xray/val/NORMAL/NORMAL...</td>\n",
       "    </tr>\n",
       "    <tr>\n",
       "      <th>5</th>\n",
       "      <td>Normal</td>\n",
       "      <td>chest_xray_images/chest_xray/val/NORMAL/NORMAL...</td>\n",
       "    </tr>\n",
       "    <tr>\n",
       "      <th>6</th>\n",
       "      <td>Normal</td>\n",
       "      <td>chest_xray_images/chest_xray/val/NORMAL/NORMAL...</td>\n",
       "    </tr>\n",
       "    <tr>\n",
       "      <th>7</th>\n",
       "      <td>Normal</td>\n",
       "      <td>chest_xray_images/chest_xray/val/NORMAL/NORMAL...</td>\n",
       "    </tr>\n",
       "    <tr>\n",
       "      <th>8</th>\n",
       "      <td>Pneumonia</td>\n",
       "      <td>chest_xray_images/chest_xray/val/PNEUMONIA/per...</td>\n",
       "    </tr>\n",
       "    <tr>\n",
       "      <th>9</th>\n",
       "      <td>Pneumonia</td>\n",
       "      <td>chest_xray_images/chest_xray/val/PNEUMONIA/per...</td>\n",
       "    </tr>\n",
       "    <tr>\n",
       "      <th>10</th>\n",
       "      <td>Pneumonia</td>\n",
       "      <td>chest_xray_images/chest_xray/val/PNEUMONIA/per...</td>\n",
       "    </tr>\n",
       "    <tr>\n",
       "      <th>11</th>\n",
       "      <td>Pneumonia</td>\n",
       "      <td>chest_xray_images/chest_xray/val/PNEUMONIA/per...</td>\n",
       "    </tr>\n",
       "    <tr>\n",
       "      <th>12</th>\n",
       "      <td>Pneumonia</td>\n",
       "      <td>chest_xray_images/chest_xray/val/PNEUMONIA/per...</td>\n",
       "    </tr>\n",
       "    <tr>\n",
       "      <th>13</th>\n",
       "      <td>Pneumonia</td>\n",
       "      <td>chest_xray_images/chest_xray/val/PNEUMONIA/per...</td>\n",
       "    </tr>\n",
       "    <tr>\n",
       "      <th>14</th>\n",
       "      <td>Pneumonia</td>\n",
       "      <td>chest_xray_images/chest_xray/val/PNEUMONIA/per...</td>\n",
       "    </tr>\n",
       "    <tr>\n",
       "      <th>15</th>\n",
       "      <td>Pneumonia</td>\n",
       "      <td>chest_xray_images/chest_xray/val/PNEUMONIA/per...</td>\n",
       "    </tr>\n",
       "  </tbody>\n",
       "</table>\n",
       "</div>"
      ],
      "text/plain": [
       "        class                                              image\n",
       "0      Normal  chest_xray_images/chest_xray/val/NORMAL/NORMAL...\n",
       "1      Normal  chest_xray_images/chest_xray/val/NORMAL/NORMAL...\n",
       "2      Normal  chest_xray_images/chest_xray/val/NORMAL/NORMAL...\n",
       "3      Normal  chest_xray_images/chest_xray/val/NORMAL/NORMAL...\n",
       "4      Normal  chest_xray_images/chest_xray/val/NORMAL/NORMAL...\n",
       "5      Normal  chest_xray_images/chest_xray/val/NORMAL/NORMAL...\n",
       "6      Normal  chest_xray_images/chest_xray/val/NORMAL/NORMAL...\n",
       "7      Normal  chest_xray_images/chest_xray/val/NORMAL/NORMAL...\n",
       "8   Pneumonia  chest_xray_images/chest_xray/val/PNEUMONIA/per...\n",
       "9   Pneumonia  chest_xray_images/chest_xray/val/PNEUMONIA/per...\n",
       "10  Pneumonia  chest_xray_images/chest_xray/val/PNEUMONIA/per...\n",
       "11  Pneumonia  chest_xray_images/chest_xray/val/PNEUMONIA/per...\n",
       "12  Pneumonia  chest_xray_images/chest_xray/val/PNEUMONIA/per...\n",
       "13  Pneumonia  chest_xray_images/chest_xray/val/PNEUMONIA/per...\n",
       "14  Pneumonia  chest_xray_images/chest_xray/val/PNEUMONIA/per...\n",
       "15  Pneumonia  chest_xray_images/chest_xray/val/PNEUMONIA/per..."
      ]
     },
     "execution_count": 6,
     "metadata": {},
     "output_type": "execute_result"
    }
   ],
   "source": [
    "df_val"
   ]
  },
  {
   "cell_type": "markdown",
   "id": "47be305a-94d1-425c-9ea5-9ff4438096f8",
   "metadata": {},
   "source": [
    "## Data Augmentation\n",
    "\n",
    "Keras ImageDataGenerator is used for getting the input of the original data and further, it makes the transformation of this data on a random basis and gives the output resultant containing only the data that is newly transformed. It does not add the data. Keras image data generator class is also used to carry out data augmentation where we aim to gain the overall increment in the generalization of the model. Operations such as rotations, translations, shearin, scale changes, and horizontal flips are carried out randomly in data augmentation using an image data generator."
   ]
  },
  {
   "cell_type": "code",
   "execution_count": 53,
   "id": "595f3a19-d79f-4801-b777-aa9dedd96b4c",
   "metadata": {},
   "outputs": [
    {
     "name": "stdout",
     "output_type": "stream",
     "text": [
      "Found 5216 validated image filenames belonging to 2 classes.\n",
      "Found 624 validated image filenames belonging to 2 classes.\n",
      "Found 16 validated image filenames belonging to 2 classes.\n"
     ]
    }
   ],
   "source": [
    "train_datagen = ImageDataGenerator(rescale = 1./255,\n",
    "                                   shear_range = 0.2,\n",
    "                                   zoom_range = 0.2,\n",
    "                                   horizontal_flip = True)\n",
    "\n",
    "test_datagen = ImageDataGenerator(rescale=1./255)\n",
    "\n",
    "train_generator = train_datagen.flow_from_dataframe(\n",
    "    df_train,\n",
    "    x_col = 'image',\n",
    "    y_col = 'class',\n",
    "    target_size=(64, 64),\n",
    "    batch_size=32,\n",
    "    class_mode='binary')\n",
    "\n",
    "test_generator = test_datagen.flow_from_dataframe(\n",
    "    df_test,\n",
    "    x_col = 'image',\n",
    "    y_col = 'class',\n",
    "    target_size=(64, 64),\n",
    "    batch_size=32,\n",
    "    class_mode='binary',\n",
    "    shuffle = False)\n",
    "\n",
    "val_generator = test_datagen.flow_from_dataframe(\n",
    "    df_val,\n",
    "    x_col = 'image',\n",
    "    y_col = 'class',\n",
    "    target_size=(64, 64),\n",
    "    batch_size=16,\n",
    "    class_mode='binary')"
   ]
  },
  {
   "cell_type": "code",
   "execution_count": null,
   "id": "b886c267-9b46-4ed7-bab7-9325f39d9b19",
   "metadata": {},
   "outputs": [],
   "source": []
  },
  {
   "cell_type": "code",
   "execution_count": 54,
   "id": "49752187-2a42-42d4-8c82-f53b59286962",
   "metadata": {},
   "outputs": [
    {
     "name": "stderr",
     "output_type": "stream",
     "text": [
      "2022-11-29 15:53:32.879461: I tensorflow/core/platform/cpu_feature_guard.cc:193] This TensorFlow binary is optimized with oneAPI Deep Neural Network Library (oneDNN) to use the following CPU instructions in performance-critical operations:  AVX2 FMA\n",
      "To enable them in other operations, rebuild TensorFlow with the appropriate compiler flags.\n"
     ]
    }
   ],
   "source": [
    "# let's build the CNN model\n",
    "\n",
    "cnn = Sequential()\n",
    "\n",
    "#Convolution\n",
    "cnn.add(Conv2D(32, (3, 3), activation=\"relu\", input_shape=(64, 64, 3)))\n",
    "\n",
    "#Pooling\n",
    "cnn.add(MaxPooling2D(pool_size = (2, 2)))\n",
    "\n",
    "# 2nd Convolution\n",
    "cnn.add(Conv2D(64, (3, 3), activation=\"relu\"))\n",
    "\n",
    "# 2nd Pooling layer\n",
    "cnn.add(MaxPooling2D(pool_size = (2, 2)))\n",
    "\n",
    "# Flatten the layer\n",
    "\n",
    "cnn.add(layers.Flatten())\n",
    "cnn.add(layers.Dense(64, activation='relu'))\n",
    "cnn.add(layers.Dense(10))\n",
    "\n",
    "# Compile the Neural network\n",
    "cnn.compile(optimizer='adam',\n",
    "              loss=tf.keras.losses.SparseCategoricalCrossentropy(from_logits=True),\n",
    "              metrics=['accuracy'])"
   ]
  },
  {
   "cell_type": "code",
   "execution_count": 55,
   "id": "108b3c4a-731c-4fb9-88c4-9905771ffe56",
   "metadata": {},
   "outputs": [
    {
     "name": "stdout",
     "output_type": "stream",
     "text": [
      "Model: \"sequential\"\n",
      "_________________________________________________________________\n",
      " Layer (type)                Output Shape              Param #   \n",
      "=================================================================\n",
      " conv2d (Conv2D)             (None, 62, 62, 32)        896       \n",
      "                                                                 \n",
      " max_pooling2d (MaxPooling2D  (None, 31, 31, 32)       0         \n",
      " )                                                               \n",
      "                                                                 \n",
      " conv2d_1 (Conv2D)           (None, 29, 29, 64)        18496     \n",
      "                                                                 \n",
      " max_pooling2d_1 (MaxPooling  (None, 14, 14, 64)       0         \n",
      " 2D)                                                             \n",
      "                                                                 \n",
      " flatten (Flatten)           (None, 12544)             0         \n",
      "                                                                 \n",
      " dense (Dense)               (None, 64)                802880    \n",
      "                                                                 \n",
      " dense_1 (Dense)             (None, 10)                650       \n",
      "                                                                 \n",
      "=================================================================\n",
      "Total params: 822,922\n",
      "Trainable params: 822,922\n",
      "Non-trainable params: 0\n",
      "_________________________________________________________________\n"
     ]
    }
   ],
   "source": [
    "cnn.summary()"
   ]
  },
  {
   "cell_type": "code",
   "execution_count": 56,
   "id": "fc637b65-d0bf-4c27-9fa8-19064fe6a735",
   "metadata": {},
   "outputs": [
    {
     "name": "stdout",
     "output_type": "stream",
     "text": [
      "Epoch 1/25\n",
      "163/163 [==============================] - 67s 405ms/step - loss: 0.3914 - accuracy: 0.8376 - val_loss: 0.5566 - val_accuracy: 0.7500\n",
      "Epoch 2/25\n",
      "163/163 [==============================] - 65s 396ms/step - loss: 0.2339 - accuracy: 0.9045 - val_loss: 0.9775 - val_accuracy: 0.5625\n",
      "Epoch 3/25\n",
      "163/163 [==============================] - 64s 390ms/step - loss: 0.2113 - accuracy: 0.9158 - val_loss: 0.2557 - val_accuracy: 0.8750\n",
      "Epoch 4/25\n",
      "163/163 [==============================] - 64s 394ms/step - loss: 0.1928 - accuracy: 0.9283 - val_loss: 0.2955 - val_accuracy: 0.8125\n",
      "Epoch 5/25\n",
      "163/163 [==============================] - 65s 396ms/step - loss: 0.1635 - accuracy: 0.9329 - val_loss: 0.5249 - val_accuracy: 0.6875\n",
      "Epoch 6/25\n",
      "163/163 [==============================] - 65s 400ms/step - loss: 0.1710 - accuracy: 0.9344 - val_loss: 0.3736 - val_accuracy: 0.7500\n",
      "Epoch 7/25\n",
      "163/163 [==============================] - 64s 395ms/step - loss: 0.1550 - accuracy: 0.9400 - val_loss: 0.3876 - val_accuracy: 0.8125\n",
      "Epoch 8/25\n",
      "163/163 [==============================] - 64s 394ms/step - loss: 0.1435 - accuracy: 0.9448 - val_loss: 0.7121 - val_accuracy: 0.6250\n",
      "Epoch 9/25\n",
      "163/163 [==============================] - 64s 394ms/step - loss: 0.1404 - accuracy: 0.9477 - val_loss: 0.2976 - val_accuracy: 0.8750\n",
      "Epoch 10/25\n",
      "163/163 [==============================] - 65s 399ms/step - loss: 0.1349 - accuracy: 0.9484 - val_loss: 0.3283 - val_accuracy: 0.8750\n",
      "Epoch 11/25\n",
      "163/163 [==============================] - 64s 394ms/step - loss: 0.1212 - accuracy: 0.9534 - val_loss: 0.3384 - val_accuracy: 0.7500\n",
      "Epoch 12/25\n",
      "163/163 [==============================] - 64s 395ms/step - loss: 0.1311 - accuracy: 0.9505 - val_loss: 0.4320 - val_accuracy: 0.8125\n",
      "Epoch 13/25\n",
      "163/163 [==============================] - 65s 397ms/step - loss: 0.1175 - accuracy: 0.9555 - val_loss: 0.5668 - val_accuracy: 0.6875\n",
      "Epoch 14/25\n",
      "163/163 [==============================] - 64s 395ms/step - loss: 0.1221 - accuracy: 0.9509 - val_loss: 0.5990 - val_accuracy: 0.6250\n",
      "Epoch 15/25\n",
      "163/163 [==============================] - 64s 396ms/step - loss: 0.1107 - accuracy: 0.9584 - val_loss: 0.7554 - val_accuracy: 0.6250\n",
      "Epoch 16/25\n",
      "163/163 [==============================] - 65s 397ms/step - loss: 0.1111 - accuracy: 0.9580 - val_loss: 0.4692 - val_accuracy: 0.6875\n",
      "Epoch 17/25\n",
      "163/163 [==============================] - 64s 392ms/step - loss: 0.1038 - accuracy: 0.9613 - val_loss: 0.3281 - val_accuracy: 0.8750\n",
      "Epoch 18/25\n",
      "163/163 [==============================] - 64s 392ms/step - loss: 0.0991 - accuracy: 0.9618 - val_loss: 0.2698 - val_accuracy: 0.8750\n",
      "Epoch 19/25\n",
      "163/163 [==============================] - 66s 404ms/step - loss: 0.0990 - accuracy: 0.9638 - val_loss: 0.3659 - val_accuracy: 0.7500\n",
      "Epoch 20/25\n",
      "163/163 [==============================] - 74s 455ms/step - loss: 0.1057 - accuracy: 0.9617 - val_loss: 0.3785 - val_accuracy: 0.7500\n",
      "Epoch 21/25\n",
      "163/163 [==============================] - 101s 621ms/step - loss: 0.1022 - accuracy: 0.9620 - val_loss: 0.3201 - val_accuracy: 0.8750\n",
      "Epoch 22/25\n",
      "163/163 [==============================] - 83s 509ms/step - loss: 0.1017 - accuracy: 0.9618 - val_loss: 0.2341 - val_accuracy: 0.8750\n",
      "Epoch 23/25\n",
      "163/163 [==============================] - 76s 465ms/step - loss: 0.0983 - accuracy: 0.9599 - val_loss: 0.2644 - val_accuracy: 0.8750\n",
      "Epoch 24/25\n",
      "163/163 [==============================] - 80s 490ms/step - loss: 0.0870 - accuracy: 0.9695 - val_loss: 0.2054 - val_accuracy: 0.9375\n",
      "Epoch 25/25\n",
      "163/163 [==============================] - 82s 501ms/step - loss: 0.0986 - accuracy: 0.9615 - val_loss: 0.3194 - val_accuracy: 0.8125\n"
     ]
    }
   ],
   "source": [
    "cnn_model = cnn.fit_generator(train_generator,\n",
    "                              steps_per_epoch = 163,\n",
    "                              epochs = 25,\n",
    "                              validation_data = val_generator)"
   ]
  },
  {
   "cell_type": "markdown",
   "id": "b4cc41a2-686f-4993-8617-73c8089559f5",
   "metadata": {},
   "source": [
    "## Visualizing model performance"
   ]
  },
  {
   "cell_type": "code",
   "execution_count": 57,
   "id": "a8678a27-83e1-4b47-941e-b443057c1709",
   "metadata": {},
   "outputs": [
    {
     "data": {
      "image/png": "[encoded data removed]",
      "text/plain": [
       "<Figure size 1440x216 with 4 Axes>"
      ]
     },
     "metadata": {
      "needs_background": "light"
     },
     "output_type": "display_data"
    }
   ],
   "source": [
    "fig, ax = plt.subplots(1, 4, figsize=(20, 3))\n",
    "ax = ax.ravel()\n",
    "\n",
    "for i, x in enumerate(['accuracy', 'val_accuracy', 'loss', 'val_loss']):\n",
    "    ax[i].plot(cnn_model.history[x])\n",
    "    ax[i].plot(cnn_model.history[x])\n",
    "    ax[i].set_title(x)\n",
    "    ax[i].set_xlabel('epochs')\n",
    "    ax[i].set_ylabel(x)"
   ]
  },
  {
   "cell_type": "code",
   "execution_count": 72,
   "id": "4ad4fd7b-bc31-4dbc-8b0d-c7843f68ef30",
   "metadata": {},
   "outputs": [
    {
     "data": {
      "text/plain": [
       "[0.3278502821922302, 0.8910256624221802]"
      ]
     },
     "execution_count": 72,
     "metadata": {},
     "output_type": "execute_result"
    }
   ],
   "source": [
    "test_accuracy = cnn.evaluate_generator(test_generator)\n",
    "test_accuracy"
   ]
  },
  {
   "cell_type": "code",
   "execution_count": 73,
   "id": "485d1abc-3d26-446c-b872-befb7853c115",
   "metadata": {},
   "outputs": [
    {
     "name": "stdout",
     "output_type": "stream",
     "text": [
      "The testing accuracy is : 89.10256624221802 %\n"
     ]
    }
   ],
   "source": [
    "print('The testing accuracy is :',test_accuracy[1]*100, '%')"
   ]
  },
  {
   "cell_type": "code",
   "execution_count": 74,
   "id": "e6f61bb7-24da-449c-bc81-c935a1c372d9",
   "metadata": {},
   "outputs": [
    {
     "data": {
      "text/plain": [
       "[0.3193802833557129, 0.8125]"
      ]
     },
     "execution_count": 74,
     "metadata": {},
     "output_type": "execute_result"
    }
   ],
   "source": [
    "val_accuracy = cnn.evaluate_generator(val_generator)\n",
    "val_accuracy"
   ]
  },
  {
   "cell_type": "code",
   "execution_count": 75,
   "id": "bfa3a1ee-499d-4be1-bef8-3234cb52be5b",
   "metadata": {},
   "outputs": [
    {
     "name": "stdout",
     "output_type": "stream",
     "text": [
      "The testing accuracy is : 81.25 %\n"
     ]
    }
   ],
   "source": [
    "print('The testing accuracy is :',val_accuracy[1]*100, '%')"
   ]
  },
  {
   "cell_type": "code",
   "execution_count": null,
   "id": "3f75c5b6-853f-4602-8b66-fabac6f5e28c",
   "metadata": {},
   "outputs": [],
   "source": []
  },
  {
   "cell_type": "code",
   "execution_count": null,
   "id": "526b7a34-5f08-4b75-a276-cc9f73692f86",
   "metadata": {},
   "outputs": [],
   "source": []
  },
  {
   "cell_type": "code",
   "execution_count": null,
   "id": "9e6dd394-2606-40f8-a63c-75d483093048",
   "metadata": {},
   "outputs": [],
   "source": []
  },
  {
   "cell_type": "code",
   "execution_count": 76,
   "id": "2bd99c45-24ee-46ba-af76-c76868b0b14e",
   "metadata": {},
   "outputs": [
    {
     "data": {
      "text/plain": [
       "Pneumonia    3875\n",
       "Normal       1341\n",
       "Name: class, dtype: int64"
      ]
     },
     "execution_count": 76,
     "metadata": {},
     "output_type": "execute_result"
    }
   ],
   "source": [
    "df_train['class'].value_counts()"
   ]
  },
  {
   "cell_type": "code",
   "execution_count": 77,
   "id": "834e03c5-2079-4294-aed2-4608a43aba24",
   "metadata": {},
   "outputs": [
    {
     "data": {
      "text/plain": [
       "Pneumonia    390\n",
       "Normal       234\n",
       "Name: class, dtype: int64"
      ]
     },
     "execution_count": 77,
     "metadata": {},
     "output_type": "execute_result"
    }
   ],
   "source": [
    "df_test['class'].value_counts()"
   ]
  },
  {
   "cell_type": "code",
   "execution_count": 78,
   "id": "e6910262-6058-46ee-9125-07bdfa59f785",
   "metadata": {},
   "outputs": [
    {
     "data": {
      "text/plain": [
       "Normal       8\n",
       "Pneumonia    8\n",
       "Name: class, dtype: int64"
      ]
     },
     "execution_count": 78,
     "metadata": {},
     "output_type": "execute_result"
    }
   ],
   "source": [
    "df_val['class'].value_counts()"
   ]
  },
  {
   "cell_type": "code",
   "execution_count": null,
   "id": "b71cb139-42e5-4b99-9533-72d0ba7a5aaa",
   "metadata": {},
   "outputs": [],
   "source": []
  },
  {
   "cell_type": "code",
   "execution_count": null,
   "id": "87b453ca-d41e-48d8-93d4-23a7040aac21",
   "metadata": {},
   "outputs": [],
   "source": []
  },
  {
   "cell_type": "code",
   "execution_count": null,
   "id": "4562bdb1-a349-42ba-a9c7-999cda77927f",
   "metadata": {},
   "outputs": [],
   "source": []
  },
  {
   "cell_type": "code",
   "execution_count": null,
   "id": "9c64dc14-878b-49f8-a514-487cbb1f372e",
   "metadata": {},
   "outputs": [],
   "source": []
  },
  {
   "cell_type": "code",
   "execution_count": null,
   "id": "801f582e-c156-4f21-9e86-f2363fd2ac01",
   "metadata": {},
   "outputs": [],
   "source": []
  },
  {
   "cell_type": "code",
   "execution_count": null,
   "id": "e5443dd9-d392-43f8-a378-f8784c311741",
   "metadata": {},
   "outputs": [],
   "source": []
  },
  {
   "cell_type": "markdown",
   "id": "a2f25798-66ad-4ffc-9494-a53726a0e2bd",
   "metadata": {},
   "source": [
    "## SVM"
   ]
  },
  {
   "cell_type": "code",
   "execution_count": 35,
   "id": "e5d8a01a-aaf3-4ae9-bfc8-31d0f1829aa0",
   "metadata": {},
   "outputs": [],
   "source": [
    "def create_data(data):\n",
    "    data_set = data['image']\n",
    "    mydata = []   \n",
    "    for i in range (0, data_set.size):\n",
    "        img = cv2.imread(data_set[i], 0)\n",
    "        img_resized = cv2.resize(img, (50,50))\n",
    "        image = np.array(img_resized).flatten() \n",
    "        \n",
    "        mydata.append(image)\n",
    "    return mydata\n",
    "        \n",
    "\n"
   ]
  },
  {
   "cell_type": "code",
   "execution_count": 36,
   "id": "ad9ba919-d809-484e-93a4-168981f9e83b",
   "metadata": {},
   "outputs": [],
   "source": [
    "xtrain = create_data(df_train)"
   ]
  },
  {
   "cell_type": "code",
   "execution_count": 37,
   "id": "0210a44e-03a2-4126-9a68-5d87507cf90f",
   "metadata": {},
   "outputs": [
    {
     "data": {
      "text/plain": [
       "5216"
      ]
     },
     "execution_count": 37,
     "metadata": {},
     "output_type": "execute_result"
    }
   ],
   "source": [
    "len(xtrain)"
   ]
  },
  {
   "cell_type": "code",
   "execution_count": 38,
   "id": "5bf82b24-0a93-408e-8f28-4afb5df89f53",
   "metadata": {},
   "outputs": [],
   "source": [
    "ytrain = np.array(df_train['class'])"
   ]
  },
  {
   "cell_type": "code",
   "execution_count": 39,
   "id": "3922c181-077d-4aa0-9a1a-7d6e1829bbad",
   "metadata": {},
   "outputs": [
    {
     "data": {
      "text/plain": [
       "array(['Normal', 'Normal', 'Normal', ..., 'Pneumonia', 'Pneumonia',\n",
       "       'Pneumonia'], dtype=object)"
      ]
     },
     "execution_count": 39,
     "metadata": {},
     "output_type": "execute_result"
    }
   ],
   "source": [
    "ytrain"
   ]
  },
  {
   "cell_type": "code",
   "execution_count": 40,
   "id": "4062afb6-65c5-4733-af19-f5b76c849d20",
   "metadata": {},
   "outputs": [
    {
     "data": {
      "text/html": [
       "<style>#sk-container-id-2 {color: black;background-color: white;}#sk-container-id-2 pre{padding: 0;}#sk-container-id-2 div.sk-toggleable {background-color: white;}#sk-container-id-2 label.sk-toggleable__label {cursor: pointer;display: block;width: 100%;margin-bottom: 0;padding: 0.3em;box-sizing: border-box;text-align: center;}#sk-container-id-2 label.sk-toggleable__label-arrow:before {content: \"▸\";float: left;margin-right: 0.25em;color: #696969;}#sk-container-id-2 label.sk-toggleable__label-arrow:hover:before {color: black;}#sk-container-id-2 div.sk-estimator:hover label.sk-toggleable__label-arrow:before {color: black;}#sk-container-id-2 div.sk-toggleable__content {max-height: 0;max-width: 0;overflow: hidden;text-align: left;background-color: #f0f8ff;}#sk-container-id-2 div.sk-toggleable__content pre {margin: 0.2em;color: black;border-radius: 0.25em;background-color: #f0f8ff;}#sk-container-id-2 input.sk-toggleable__control:checked~div.sk-toggleable__content {max-height: 200px;max-width: 100%;overflow: auto;}#sk-container-id-2 input.sk-toggleable__control:checked~label.sk-toggleable__label-arrow:before {content: \"▾\";}#sk-container-id-2 div.sk-estimator input.sk-toggleable__control:checked~label.sk-toggleable__label {background-color: #d4ebff;}#sk-container-id-2 div.sk-label input.sk-toggleable__control:checked~label.sk-toggleable__label {background-color: #d4ebff;}#sk-container-id-2 input.sk-hidden--visually {border: 0;clip: rect(1px 1px 1px 1px);clip: rect(1px, 1px, 1px, 1px);height: 1px;margin: -1px;overflow: hidden;padding: 0;position: absolute;width: 1px;}#sk-container-id-2 div.sk-estimator {font-family: monospace;background-color: #f0f8ff;border: 1px dotted black;border-radius: 0.25em;box-sizing: border-box;margin-bottom: 0.5em;}#sk-container-id-2 div.sk-estimator:hover {background-color: #d4ebff;}#sk-container-id-2 div.sk-parallel-item::after {content: \"\";width: 100%;border-bottom: 1px solid gray;flex-grow: 1;}#sk-container-id-2 div.sk-label:hover label.sk-toggleable__label {background-color: #d4ebff;}#sk-container-id-2 div.sk-serial::before {content: \"\";position: absolute;border-left: 1px solid gray;box-sizing: border-box;top: 0;bottom: 0;left: 50%;z-index: 0;}#sk-container-id-2 div.sk-serial {display: flex;flex-direction: column;align-items: center;background-color: white;padding-right: 0.2em;padding-left: 0.2em;position: relative;}#sk-container-id-2 div.sk-item {position: relative;z-index: 1;}#sk-container-id-2 div.sk-parallel {display: flex;align-items: stretch;justify-content: center;background-color: white;position: relative;}#sk-container-id-2 div.sk-item::before, #sk-container-id-2 div.sk-parallel-item::before {content: \"\";position: absolute;border-left: 1px solid gray;box-sizing: border-box;top: 0;bottom: 0;left: 50%;z-index: -1;}#sk-container-id-2 div.sk-parallel-item {display: flex;flex-direction: column;z-index: 1;position: relative;background-color: white;}#sk-container-id-2 div.sk-parallel-item:first-child::after {align-self: flex-end;width: 50%;}#sk-container-id-2 div.sk-parallel-item:last-child::after {align-self: flex-start;width: 50%;}#sk-container-id-2 div.sk-parallel-item:only-child::after {width: 0;}#sk-container-id-2 div.sk-dashed-wrapped {border: 1px dashed gray;margin: 0 0.4em 0.5em 0.4em;box-sizing: border-box;padding-bottom: 0.4em;background-color: white;}#sk-container-id-2 div.sk-label label {font-family: monospace;font-weight: bold;display: inline-block;line-height: 1.2em;}#sk-container-id-2 div.sk-label-container {text-align: center;}#sk-container-id-2 div.sk-container {/* jupyter's `normalize.less` sets `[hidden] { display: none; }` but bootstrap.min.css set `[hidden] { display: none !important; }` so we also need the `!important` here to be able to override the default hidden behavior on the sphinx rendered scikit-learn.org. See: https://github.com/scikit-learn/scikit-learn/issues/21755 */display: inline-block !important;position: relative;}#sk-container-id-2 div.sk-text-repr-fallback {display: none;}</style><div id=\"sk-container-id-2\" class=\"sk-top-container\"><div class=\"sk-text-repr-fallback\"><pre>SVC()</pre><b>In a Jupyter environment, please rerun this cell to show the HTML representation or trust the notebook. <br />On GitHub, the HTML representation is unable to render, please try loading this page with nbviewer.org.</b></div><div class=\"sk-container\" hidden><div class=\"sk-item\"><div class=\"sk-estimator sk-toggleable\"><input class=\"sk-toggleable__control sk-hidden--visually\" id=\"sk-estimator-id-2\" type=\"checkbox\" checked><label for=\"sk-estimator-id-2\" class=\"sk-toggleable__label sk-toggleable__label-arrow\">SVC</label><div class=\"sk-toggleable__content\"><pre>SVC()</pre></div></div></div></div></div>"
      ],
      "text/plain": [
       "SVC()"
      ]
     },
     "execution_count": 40,
     "metadata": {},
     "output_type": "execute_result"
    }
   ],
   "source": [
    "from sklearn import svm\n",
    "svmClassifier = svm.SVC()\n",
    "svmClassifier.fit(xtrain, ytrain)"
   ]
  },
  {
   "cell_type": "code",
   "execution_count": 43,
   "id": "d111e071-a421-4ad0-b2e6-1e7fe2f4beca",
   "metadata": {},
   "outputs": [],
   "source": [
    "xtest = create_data(df_test)\n",
    "ytest = np.array(df_test['class'])"
   ]
  },
  {
   "cell_type": "code",
   "execution_count": 44,
   "id": "302ba14f-d64d-485c-a4fa-c74666a9beb2",
   "metadata": {},
   "outputs": [],
   "source": [
    "prediction = svmClassifier.predict(xtest)"
   ]
  },
  {
   "cell_type": "code",
   "execution_count": 45,
   "id": "5f0df59a-d337-4569-88c7-23a4ee9f750e",
   "metadata": {},
   "outputs": [],
   "source": [
    "accuracy = svmClassifier.score(xtest, ytest)"
   ]
  },
  {
   "cell_type": "code",
   "execution_count": 46,
   "id": "b1d3cea9-02e5-49b0-a88a-4d7cbe31a67f",
   "metadata": {},
   "outputs": [
    {
     "data": {
      "text/plain": [
       "0.7644230769230769"
      ]
     },
     "execution_count": 46,
     "metadata": {},
     "output_type": "execute_result"
    }
   ],
   "source": [
    "accuracy"
   ]
  },
  {
   "cell_type": "code",
   "execution_count": 47,
   "id": "24e84467-1cb2-4c71-9910-dbdefb90a126",
   "metadata": {},
   "outputs": [
    {
     "name": "stdout",
     "output_type": "stream",
     "text": [
      "Confusion matrix:\n",
      "[[ 92 142]\n",
      " [  5 385]]\n"
     ]
    },
    {
     "data": {
      "image/png": "[encoded data removed]",
      "text/plain": [
       "<Figure size 432x288 with 2 Axes>"
      ]
     },
     "metadata": {
      "needs_background": "light"
     },
     "output_type": "display_data"
    }
   ],
   "source": [
    "disp = metrics.ConfusionMatrixDisplay.from_predictions(ytest, prediction)\n",
    "disp.figure_.suptitle(\"Confusion Matrix\")\n",
    "print(f\"Confusion matrix:\\n{disp.confusion_matrix}\")\n",
    "plt.show()"
   ]
  },
  {
   "cell_type": "code",
   "execution_count": 51,
   "id": "11ec6e9f-d2ca-496e-9e49-055e77db6501",
   "metadata": {},
   "outputs": [
    {
     "name": "stdout",
     "output_type": "stream",
     "text": [
      "Classification report for classifier SVC():\n",
      "              precision    recall  f1-score   support\n",
      "\n",
      "      Normal       0.95      0.39      0.56       234\n",
      "   Pneumonia       0.73      0.99      0.84       390\n",
      "\n",
      "    accuracy                           0.76       624\n",
      "   macro avg       0.84      0.69      0.70       624\n",
      "weighted avg       0.81      0.76      0.73       624\n",
      "\n",
      "\n"
     ]
    }
   ],
   "source": [
    "print(\n",
    "    f\"Classification report for classifier {svmClassifier}:\\n\"\n",
    "    f\"{metrics.classification_report(ytest, prediction)}\\n\"\n",
    ")"
   ]
  },
  {
   "cell_type": "code",
   "execution_count": null,
   "id": "57ca3652-3199-496d-bcbc-cb6a0adf4c6d",
   "metadata": {},
   "outputs": [],
   "source": []
  },
  {
   "cell_type": "code",
   "execution_count": null,
   "id": "94b04a48-cc08-4a8f-b7ed-20322d57978d",
   "metadata": {},
   "outputs": [],
   "source": []
  }
 ],
 "metadata": {
  "kernelspec": {
   "display_name": "Python 3 (ipykernel)",
   "language": "python",
   "name": "python3"
  },
  "language_info": {
   "codemirror_mode": {
    "name": "ipython",
    "version": 3
   },
   "file_extension": ".py",
   "mimetype": "text/x-python",
   "name": "python",
   "nbconvert_exporter": "python",
   "pygments_lexer": "ipython3",
   "version": "3.10.5"
  }
 },
 "nbformat": 4,
 "nbformat_minor": 5
}
